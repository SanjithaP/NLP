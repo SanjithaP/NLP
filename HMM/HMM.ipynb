{
 "cells": [
  {
   "cell_type": "code",
   "execution_count": 1,
   "id": "64af3d6d",
   "metadata": {},
   "outputs": [
    {
     "ename": "SyntaxError",
     "evalue": "unexpected EOF while parsing (<ipython-input-1-5dcb095e8706>, line 57)",
     "output_type": "error",
     "traceback": [
      "\u001b[1;36m  File \u001b[1;32m\"<ipython-input-1-5dcb095e8706>\"\u001b[1;36m, line \u001b[1;32m57\u001b[0m\n\u001b[1;33m    print(\"Backward Probability:\", backward_prob\u001b[0m\n\u001b[1;37m                                                ^\u001b[0m\n\u001b[1;31mSyntaxError\u001b[0m\u001b[1;31m:\u001b[0m unexpected EOF while parsing\n"
     ]
    }
   ],
   "source": [
    "import numpy as np\n",
    "\n",
    "def forward_algorithm(observed_sequence, states, initial_probabilities, transition_probabilities, emission_probabilities):\n",
    "    num_states = len(states)\n",
    "    num_observed = len(observed_sequence)\n",
    "   \n",
    "    # Initialize the forward probabilities matrix\n",
    "    forward_matrix = np.zeros((num_states, num_observed))\n",
    "   \n",
    "    # Initialization step\n",
    "    for i in range(num_states):\n",
    "        forward_matrix[i, 0] = initial_probabilities[i] * emission_probabilities[i][observed_sequence[0]]\n",
    "   \n",
    "    # Recursion step\n",
    "    for t in range(1, num_observed):\n",
    "        for j in range(num_states):\n",
    "            forward_matrix[j, t] = sum(forward_matrix[i, t - 1] * transition_probabilities[i][j] * emission_probabilities[j][observed_sequence[t]] for i in range(num_states))\n",
    "   \n",
    "    # Termination step\n",
    "    probability = sum(forward_matrix[i, num_observed - 1] for i in range(num_states))\n",
    "   \n",
    "    return probability, forward_matrix\n",
    "\n",
    "def backward_algorithm(observed_sequence, states, transition_probabilities, emission_probabilities):\n",
    "    num_states = len(states)\n",
    "    num_observed = len(observed_sequence)\n",
    "   \n",
    "    # Initialize the backward probabilities matrix\n",
    "    backward_matrix = np.zeros((num_states, num_observed))\n",
    "   \n",
    "    # Initialization step\n",
    "    for i in range(num_states):\n",
    "        backward_matrix[i, num_observed - 1] = 1.0\n",
    "   \n",
    "    # Recursion step\n",
    "    for t in range(num_observed - 2, -1, -1):\n",
    "        for i in range(num_states):\n",
    "            backward_matrix[i, t] = sum(transition_probabilities[i][j] * emission_probabilities[j][observed_sequence[t + 1]] * backward_matrix[j, t + 1] for j in range(num_states))\n",
    "   \n",
    "    # Termination step\n",
    "    probability = sum(initial_probabilities[i] * emission_probabilities[i][observed_sequence[0]] * backward_matrix[i, 0] for i in range(num_states))\n",
    "   \n",
    "    return probability, backward_matrix\n",
    "\n",
    "# Example usage:\n",
    "states = ['H', 'C']  # Hidden states (e.g., 'H' for hot, 'C' for cold)\n",
    "observed_sequence = [0, 1, 0]  # Observed sequence (e.g., 0 for 'walk', 1 for 'shop', 0 for 'walk')\n",
    "\n",
    "initial_probabilities = [0.6, 0.4]  # Initial state probabilities\n",
    "transition_probabilities = [[0.7, 0.3], [0.4, 0.6]]  # Transition probabilities\n",
    "emission_probabilities = [[0.1, 0.4], [0.6, 0.3]]  # Emission probabilities\n",
    "\n",
    "forward_prob, forward_matrix = forward_algorithm(observed_sequence, states, initial_probabilities, transition_probabilities, emission_probabilities)\n",
    "backward_prob, backward_matrix = backward_algorithm(observed_sequence, states, transition_probabilities, emission_probabilities)\n",
    "\n",
    "print(\"Forward Probability:\", forward_prob)\n",
    "print(\"Backward Probability:\", backward_prob)"
   ]
  },
  {
   "cell_type": "code",
   "execution_count": null,
   "id": "fec1b1fc",
   "metadata": {},
   "outputs": [],
   "source": []
  }
 ],
 "metadata": {
  "kernelspec": {
   "display_name": "Python 3",
   "language": "python",
   "name": "python3"
  },
  "language_info": {
   "codemirror_mode": {
    "name": "ipython",
    "version": 3
   },
   "file_extension": ".py",
   "mimetype": "text/x-python",
   "name": "python",
   "nbconvert_exporter": "python",
   "pygments_lexer": "ipython3",
   "version": "3.8.8"
  }
 },
 "nbformat": 4,
 "nbformat_minor": 5
}
