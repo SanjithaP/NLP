{
 "cells": [
  {
   "cell_type": "markdown",
   "id": "52a8106a",
   "metadata": {},
   "source": [
    "# Viterbi CYK Algorithm - PCFG"
   ]
  },
  {
   "cell_type": "code",
   "execution_count": 1,
   "id": "101c1efd",
   "metadata": {},
   "outputs": [],
   "source": [
    "from collections import defaultdict"
   ]
  },
  {
   "cell_type": "code",
   "execution_count": 2,
   "id": "47a95659",
   "metadata": {},
   "outputs": [],
   "source": [
    "rules=[]\n",
    "\"\"\"n=int(input('Enter Number of Rules:'))\n",
    "for i in range(n):\n",
    "    r=[]\n",
    "    r.append(input('Key:'))\n",
    "    r.append(input('Value:'))\n",
    "    r.append(float(input('Probability:')))\n",
    "    rules.append(r)\"\"\"\n",
    "n = 10\n",
    "rules = [\n",
    "    ['s','np vp',1.0],\n",
    "    ['pp','p np',1.0],\n",
    "    ['vp','v np',0.7],\n",
    "    ['vp','vp pp',0.3],\n",
    "    ['p','with',1.0],\n",
    "    ['v','saw',1.0],\n",
    "    ['np','np pp',0.4],\n",
    "    ['np','astronomers',0.1],\n",
    "    ['np','ears',0.18],\n",
    "    ['np','saw',0.04],\n",
    "    ['np','stars',0.18],\n",
    "    ['np','telescopes',0.1],\n",
    "]"
   ]
  },
  {
   "cell_type": "code",
   "execution_count": 3,
   "id": "08a7cc54",
   "metadata": {},
   "outputs": [
    {
     "name": "stdout",
     "output_type": "stream",
     "text": [
      "[[{}, {'np': 0.1}, {}, {}, {}, {}], [{}, {}, {'v': 1.0, 'np': 0.04}, {}, {}, {}], [{}, {}, {}, {'np': 0.18}, {}, {}], [{}, {}, {}, {}, {'p': 1.0}, {}], [{}, {}, {}, {}, {}, {'np': 0.18}]]\n"
     ]
    }
   ],
   "source": [
    "query=['astronomers','saw','stars','with','ears']\n",
    "n=len(query)\n",
    "table = [[{} for _ in range(n+1)] for _ in range(n)]\n",
    "\n",
    "\n",
    "for i in range(n):\n",
    "    \n",
    "    for l in rules:\n",
    "        if l[1]==query[i]:\n",
    "            if l[0] not in table[i][i+1]:\n",
    "                table[i][i+1][l[0]]=l[2]\n",
    "            else:\n",
    "                table[i][i+1][l[0]]+=l[2]\n",
    "        \n",
    " \n",
    "print(table)"
   ]
  },
  {
   "cell_type": "code",
   "execution_count": 4,
   "id": "36d9390f",
   "metadata": {},
   "outputs": [
    {
     "name": "stdout",
     "output_type": "stream",
     "text": [
      "[{}, {'np': 0.1}, {}, {'s': 0.0126}, {}, {'s': 0.0009072}]\n",
      "[{}, {}, {'v': 1.0, 'np': 0.04}, {'vp': 0.126}, {}, {'vp': 0.009072}]\n",
      "[{}, {}, {}, {'np': 0.18}, {}, {'np': 0.01296}]\n",
      "[{}, {}, {}, {}, {'p': 1.0}, {'pp': 0.18}]\n",
      "[{}, {}, {}, {}, {}, {'np': 0.18}]\n",
      "probability of query: 0.0009072\n"
     ]
    }
   ],
   "source": [
    "t=2\n",
    "for i in range(n-1):\n",
    "    j=t\n",
    "    for k in range(n-j+1):\n",
    "        for l in range(k+1,j):\n",
    "            if table[k][l]!={} and table[l][j]!={}:\n",
    "                for k1 in table[k][l]:\n",
    "                    for k2 in table[l][j]:\n",
    "                        for r in rules:\n",
    "                            if k1+' '+k2 in r:\n",
    "                                if r[0] not in table[k][j]:\n",
    "                                    table[k][j][r[0]] = round(r[2]*table[k][l][k1]*table[l][j][k2],8)\n",
    "                                else:\n",
    "                                    table[k][j][r[0]] = max(r[2]*table[k][l][k1]*table[l][j][k2],table[k][j][r[0]])\n",
    "                                    table[k][j][r[0]] = round(table[k][j][r[0]],8)\n",
    "        \n",
    "                                    \n",
    "        j+=1\n",
    "\n",
    "    t+=1\n",
    "    \n",
    "for i in range(n):\n",
    "    print(table[i])\n",
    "\n",
    "print('probability of query:',table[0][n]['s'])"
   ]
  },
  {
   "cell_type": "code",
   "execution_count": null,
   "id": "a65e21aa",
   "metadata": {},
   "outputs": [],
   "source": []
  }
 ],
 "metadata": {
  "kernelspec": {
   "display_name": "Python 3",
   "language": "python",
   "name": "python3"
  },
  "language_info": {
   "codemirror_mode": {
    "name": "ipython",
    "version": 3
   },
   "file_extension": ".py",
   "mimetype": "text/x-python",
   "name": "python",
   "nbconvert_exporter": "python",
   "pygments_lexer": "ipython3",
   "version": "3.8.8"
  }
 },
 "nbformat": 4,
 "nbformat_minor": 5
}
